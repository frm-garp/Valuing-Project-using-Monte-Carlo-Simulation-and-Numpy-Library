{
 "cells": [
  {
   "cell_type": "code",
   "execution_count": 1,
   "metadata": {},
   "outputs": [],
   "source": [
    "import numpy as np\n",
    "import pandas as pd\n",
    "from scipy.stats import norm\n",
    "from numpy.random import randn\n",
    "from numpy import random as rn\n",
    "from scipy.stats import norm, kurtosis, skew\n",
    "from matplotlib import pyplot as plt\n",
    "%matplotlib inline"
   ]
  },
  {
   "cell_type": "code",
   "execution_count": 2,
   "metadata": {},
   "outputs": [],
   "source": [
    "Amin=10000\n",
    "Amax=20000\n",
    "Bmin=15000\n",
    "Bmax=15000\n",
    "Cmin=7500\n",
    "Cmax=12000\n",
    "Dmin=4800\n",
    "Dmax=6200\n",
    "Emin=20000\n",
    "Emax=25000\n",
    "Fmin=5000\n",
    "Fmax=7000\n",
    "Loss = 0.02"
   ]
  },
  {
   "cell_type": "code",
   "execution_count": 3,
   "metadata": {},
   "outputs": [],
   "source": [
    "M = 544\n",
    "N = 6"
   ]
  },
  {
   "cell_type": "code",
   "execution_count": 4,
   "metadata": {},
   "outputs": [],
   "source": [
    "Z = np.random.uniform(0,1,(M,N))"
   ]
  },
  {
   "cell_type": "code",
   "execution_count": 5,
   "metadata": {},
   "outputs": [],
   "source": [
    "A = 1*np.ones((M,1))\n",
    "B = 1*np.ones((M,1))\n",
    "C = 1*np.ones((M,1))\n",
    "D = 1*np.ones((M,1))\n",
    "E = 1*np.ones((M,1))\n",
    "F = 1*np.ones((M,1))"
   ]
  },
  {
   "cell_type": "code",
   "execution_count": 6,
   "metadata": {},
   "outputs": [],
   "source": [
    "for i in range(0,M):\n",
    "    A[i,0] = Z[i,0]*(Amax-Amin)+Amin\n",
    "    B[i,0] = Z[i,1]*(Bmax-Bmin)+Bmin\n",
    "    C[i,0] = Z[i,2]*(Cmax-Cmin)+Cmin\n",
    "    D[i,0] = Z[i,3]*(Dmax-Dmin)+Dmin\n",
    "    E[i,0] = Z[i,4]*(Emax-Emin)+Emin\n",
    "    F[i,0] = Z[i,5]*(Fmax-Fmin)+Fmin"
   ]
  },
  {
   "cell_type": "code",
   "execution_count": 7,
   "metadata": {},
   "outputs": [],
   "source": [
    "Total = 1*np.ones((M,1))\n",
    "for i in range(0,M):\n",
    "    Total[i,0] = A[i,0]+B[i,0]+C[i,0]+D[i,0]+E[i,0]+F[i,0]"
   ]
  },
  {
   "cell_type": "code",
   "execution_count": 8,
   "metadata": {},
   "outputs": [],
   "source": [
    "def stdevp(data):\n",
    "...     # Number of observations\n",
    "...     n = len(data)\n",
    "...     # Mean of the data\n",
    "...     mean = sum(data) / n\n",
    "...     # Square deviations\n",
    "...     deviations = [(x - mean) ** 2 for x in data]\n",
    "...     # Variance\n",
    "...     stdevp = (sum(deviations) / n)**0.5\n",
    "...     return stdevp"
   ]
  },
  {
   "cell_type": "code",
   "execution_count": 9,
   "metadata": {},
   "outputs": [],
   "source": [
    "Totalmin = Amin+Bmin+Cmin+Dmin+Emin+Fmin\n",
    "Totalmax = Amax+Bmax+Cmax+Dmax+Emax+Fmax\n",
    "Totalavg = np.mean((Totalmin,Totalmax))"
   ]
  },
  {
   "cell_type": "markdown",
   "metadata": {},
   "source": [
    "The Monte Carlo method provides an estimate of the expected value of a random variabe and also predicts the estimation error, which is proportional to the number of iterations.\n",
    "\n",
    "We can estimate an upper bound of the total error by calculating the standard deviation between the maximum, the minimum, and averages values of the random variable:"
   ]
  },
  {
   "cell_type": "code",
   "execution_count": 10,
   "metadata": {},
   "outputs": [
    {
     "name": "stdout",
     "output_type": "stream",
     "text": [
      "\u001b[1m The upper bound of the total error is: 9349\n"
     ]
    }
   ],
   "source": [
    "sigma = np.std((Totalmin,Totalmax,Totalavg))\n",
    "print(\"\\033[1m The upper bound of the total error is:\", \"{:.0f}\".format(sigma))"
   ]
  },
  {
   "cell_type": "markdown",
   "metadata": {},
   "source": [
    "Lets determine the number of iterations required for an error of loss is less than 2%. A gross estimation of the random variable is the average of the maximum value and the minimum value. An absolute error of 2% is the average multiplied by 0.02:"
   ]
  },
  {
   "cell_type": "code",
   "execution_count": 11,
   "metadata": {},
   "outputs": [
    {
     "name": "stdout",
     "output_type": "stream",
     "text": [
      "\u001b[1m The absolute error of 2% is: 1475\n"
     ]
    }
   ],
   "source": [
    "epsilon = int(round(Totalavg*Loss,0))\n",
    "print(\"\\033[1m The absolute error of 2% is:\", \"{:.0f}\".format(epsilon))"
   ]
  },
  {
   "cell_type": "markdown",
   "metadata": {},
   "source": [
    "Therefore the number of iterations to obtain a result with an error of less than 2% is:"
   ]
  },
  {
   "cell_type": "code",
   "execution_count": 12,
   "metadata": {},
   "outputs": [
    {
     "name": "stdout",
     "output_type": "stream",
     "text": [
      "\u001b[1m The number of iterations to obtain a result with an error of less than 2%: 362\n"
     ]
    }
   ],
   "source": [
    "Num = int(round((3*sigma/epsilon)**2,0))\n",
    "print(\"\\033[1m The number of iterations to obtain a result with an error of less than 2%:\", \"{:.0f}\".format(Num))"
   ]
  },
  {
   "cell_type": "markdown",
   "metadata": {},
   "source": [
    "The expected value of the random variable is the average of the total column:"
   ]
  },
  {
   "cell_type": "code",
   "execution_count": 13,
   "metadata": {},
   "outputs": [
    {
     "name": "stdout",
     "output_type": "stream",
     "text": [
      "\u001b[1m The expected value is: 73816\n"
     ]
    }
   ],
   "source": [
    "Expected_Value = np.mean(Total)\n",
    "print(\"\\033[1m The expected value is:\", \"{:.0f}\".format(Expected_Value))"
   ]
  },
  {
   "cell_type": "markdown",
   "metadata": {},
   "source": [
    "Given the variable is normally distributed, the median should be very close to the mean"
   ]
  },
  {
   "cell_type": "code",
   "execution_count": 14,
   "metadata": {},
   "outputs": [
    {
     "name": "stdout",
     "output_type": "stream",
     "text": [
      "\u001b[1m The median is: 73779\n"
     ]
    }
   ],
   "source": [
    "Median = np.median(Total)\n",
    "print(\"\\033[1m The median is:\", \"{:.0f}\".format(Median))"
   ]
  },
  {
   "cell_type": "code",
   "execution_count": 15,
   "metadata": {},
   "outputs": [
    {
     "name": "stdout",
     "output_type": "stream",
     "text": [
      "\u001b[1m A difference of only: 0.0%\n"
     ]
    }
   ],
   "source": [
    "diff1 = (Median/Expected_Value)-1\n",
    "print(\"\\033[1m A difference of only:\", \"{:.1%}\".format(abs(diff1)))"
   ]
  },
  {
   "cell_type": "code",
   "execution_count": 16,
   "metadata": {},
   "outputs": [
    {
     "name": "stdout",
     "output_type": "stream",
     "text": [
      "\u001b[1m The standard deviation is: 3478\n"
     ]
    }
   ],
   "source": [
    "sigma1 = np.std(Total)\n",
    "print(\"\\033[1m The standard deviation is:\", \"{:.0f}\".format(sigma1))"
   ]
  },
  {
   "cell_type": "markdown",
   "metadata": {},
   "source": [
    "We can now review the true error of the estimate:"
   ]
  },
  {
   "cell_type": "code",
   "execution_count": 17,
   "metadata": {},
   "outputs": [
    {
     "name": "stdout",
     "output_type": "stream",
     "text": [
      "\u001b[1m The true error of the estimate is: 548\n"
     ]
    }
   ],
   "source": [
    "TrueError = (3*sigma1)/np.sqrt(Num)\n",
    "print(\"\\033[1m The true error of the estimate is:\", \"{:.0f}\".format(TrueError))"
   ]
  },
  {
   "cell_type": "code",
   "execution_count": 18,
   "metadata": {},
   "outputs": [
    {
     "name": "stdout",
     "output_type": "stream",
     "text": [
      "\u001b[1m This is an error of only 0.7%\n"
     ]
    }
   ],
   "source": [
    "gap = (TrueError/Expected_Value)\n",
    "print(\"\\033[1m This is an error of only\", \"{:.1%}\".format(gap))"
   ]
  },
  {
   "cell_type": "markdown",
   "metadata": {},
   "source": [
    "Other useful information is the Kurtosis and the Skewness of the shape compared with the shape of a normal distribution. The normal distribution has an excess kurtosis of 0."
   ]
  },
  {
   "cell_type": "code",
   "execution_count": 19,
   "metadata": {},
   "outputs": [
    {
     "name": "stdout",
     "output_type": "stream",
     "text": [
      "\u001b[1m The excess kurtosis of our distribution is: -0.695\n"
     ]
    }
   ],
   "source": [
    "Kurt = float(kurtosis(Total))\n",
    "print(\"\\033[1m The excess kurtosis of our distribution is:\", \"{:.3f}\".format(Kurt))"
   ]
  },
  {
   "cell_type": "markdown",
   "metadata": {},
   "source": [
    "This indicates that the distribution is somewhat flatter than a normal distribution.\n",
    "\n",
    "Skewness is a measure of asymmetry. The normal distribution has a skewness of 0."
   ]
  },
  {
   "cell_type": "code",
   "execution_count": 20,
   "metadata": {},
   "outputs": [
    {
     "name": "stdout",
     "output_type": "stream",
     "text": [
      "\u001b[1m The skewness of our distribution is -0.024\n"
     ]
    }
   ],
   "source": [
    "Skew = float(skew(Total))\n",
    "print(\"\\033[1m The skewness of our distribution is\", \"{:.3f}\".format(Skew))"
   ]
  },
  {
   "cell_type": "markdown",
   "metadata": {},
   "source": [
    "This indicates that the tail of the distribution extands towards the right.\n",
    "\n",
    "The results can be easily plotted to produce of the following chart:"
   ]
  },
  {
   "cell_type": "code",
   "execution_count": 21,
   "metadata": {},
   "outputs": [
    {
     "data": {
      "image/png": "[encoded data removed]",
      "text/plain": [
       "<Figure size 720x360 with 2 Axes>"
      ]
     },
     "metadata": {},
     "output_type": "display_data"
    }
   ],
   "source": [
    "import numpy as np\n",
    "import matplotlib.pyplot as plt\n",
    "import seaborn as sns\n",
    "\n",
    "\n",
    "class Histplot:\n",
    "    def __init__(self, x_data, num_bins, linetype='ro-', title=None, xlabel=None, ylabels=None, fsize=(20, 20), df_line=1):\n",
    "        \"\"\"\n",
    "        :param x_data: data x list\n",
    "                 :param num_bins: the number of x groups\n",
    "                 :param linetype: The style of the cumulative frequency curve, the default is red solid point\n",
    "                 :param legends: legend name, default is \"linear fitting result\", \"actual measured value\"\n",
    "                 :param xlabel: the name of the x axis title, default is \"data x\"\n",
    "                 :param ylabels: double y axis title name, the default is \"count\", \"cumulative frequency\"\n",
    "                 :param df_line: Whether to display the cumulative frequency curve\n",
    "        \"\"\"\n",
    "        if title is None:\n",
    "            title = \"Frequency / Cumulative Chart\"\n",
    "        if xlabel is None:\n",
    "            xlabel = \"Cost $\"\n",
    "        if ylabels is None:\n",
    "            ylabels = [\"Frequency\", \"Probability\"]\n",
    "        self.x_data = x_data\n",
    "        self.num_bins = num_bins\n",
    "        self.linetype = linetype\n",
    "        self.fsize = fsize\n",
    "        self.title = title\n",
    "        self.xlabel = xlabel\n",
    "        self.ylabels = ylabels\n",
    "        self.df_line = df_line\n",
    "\n",
    "    def change_title(self, new_title):\n",
    "        # Change the title name to new_legends\n",
    "        self.title = new_title\n",
    "\n",
    "    def change_ylabel(self, new_labels):\n",
    "        # Change the title of the dual y axis to new_labels\n",
    "        self.ylabels = new_labels\n",
    "\n",
    "    def change_xlabel(self, new_label):\n",
    "        # Change the x-axis axis title to new_label\n",
    "        self.xlabel = new_label\n",
    "\n",
    "    def change_linetype(self, new_linetype):\n",
    "        # Change the format of the cumulative frequency line to new_lintype\n",
    "        self.linetype = new_linetype\n",
    "\n",
    "    def draw_plot(self):\n",
    "        fs = self.fsize  # Canvas size\n",
    "        # Use the seaborn library to set the font size uniformly, which is 0.12 times of fgsize[1], that is, when the vertical size of the canvas is 1000, font_scale=1.2\n",
    "        sns.set_style(\"ticks\")\n",
    "        sns.set_context(\"talk\", font_scale=fs[1]*0.2)\n",
    "\n",
    "        # Set canvas\n",
    "        fig, ax = plt.subplots(figsize=fs)\n",
    "\n",
    "        # ax: draw frequency histogram, not selectable\n",
    "        n, bins, patches = ax.hist(self.x_data, self.num_bins, color = \"royalblue\", rwidth=0.9, label=self.title[0])\n",
    "        ax.set_title(self.title, fontsize=30)\n",
    "        ax.set_xlabel(self.xlabel, fontsize=18)\n",
    "        ax.set_ylabel(self.ylabels[0],  fontsize=18)\n",
    "\n",
    "        # ax2: Draw cumulative frequency curve, optional\n",
    "        if self.df_line:\n",
    "            leiji_n = [sum(n[:i]) / M for i in range(len(n) + 1)]\n",
    "            ax2 = ax.twinx()\n",
    "            ax2.plot(bins, leiji_n, self.linetype, ms=fs[0]*0.2, color=\"g\", linewidth=4, label=self.title[0])\n",
    "            ax2.set_ylim(0, 1)\n",
    "            ax2.set_ylabel(self.ylabels[1], fontsize=18)\n",
    "\n",
    "        # Display multiple legends\n",
    "        # fig.legend(loc=1, bbox_to_anchor=(1, 1), bbox_transform=ax.transAxes)\n",
    "        # fig.tight_layout()\n",
    "        plt.grid()\n",
    "        plt.show()\n",
    "\n",
    "\n",
    "if __name__ == \"__main__\":\n",
    "    bins = 20  # Data grouping\n",
    "    plot1 = Histplot(Total, num_bins=bins, fsize=(10, 5))\n",
    "    plot1.draw_plot()"
   ]
  }
 ],
 "metadata": {
  "kernelspec": {
   "display_name": "Python 3",
   "language": "python",
   "name": "python3"
  },
  "language_info": {
   "codemirror_mode": {
    "name": "ipython",
    "version": 3
   },
   "file_extension": ".py",
   "mimetype": "text/x-python",
   "name": "python",
   "nbconvert_exporter": "python",
   "pygments_lexer": "ipython3",
   "version": "3.7.4"
  }
 },
 "nbformat": 4,
 "nbformat_minor": 4
}
